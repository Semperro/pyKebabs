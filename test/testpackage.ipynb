{
 "cells": [
  {
   "cell_type": "code",
   "execution_count": 12,
   "metadata": {},
   "outputs": [],
   "source": [
    "import pyrokebabs as pb\n",
    "import pandas as pd\n",
    "import numpy as np\n",
    "from Bio.Seq import Seq\n",
    "from sklearn.model_selection import train_test_split, cross_validate, GridSearchCV, LeaveOneOut, KFold\n",
    "#!pip install Bio strkernel\n",
    "from sklearn.svm import SVC\n",
    "import time\n",
    "from sklearn.model_selection import GroupKFold\n",
    "from sklearn.svm import LinearSVC\n",
    "import random"
   ]
  },
  {
   "cell_type": "code",
   "execution_count": 13,
   "metadata": {},
   "outputs": [],
   "source": [
    "# Creates random DNA sequences\n",
    "\n",
    "# SUBROUTINE \n",
    "# Description: creates a random string from given chars\n",
    "# @Dependencies     -> None\n",
    "# @Routineparams:\n",
    "# letters           -> contais the letters used for creating the sequence\n",
    "# @Functionparams:\n",
    "# length            -> defines the final length if every sequence \n",
    "# @Return           -> returns a random DNA sequence of choosen params\n",
    "def createDNA(length):\n",
    "    letters = ['C','G','T','A']\n",
    "    return ''.join(random.choice('CGTA') for _ in range(length))\n",
    "\n",
    "\n",
    "#ROUTINE\n",
    "# Description: Sets the wanted params and calls subroutine createDNA\n",
    "# @Dependencies:\n",
    "# numpy         -> import numpy as np\n",
    "# @Routineparams:\n",
    "# amount        -> the number of sequences that should be created\n",
    "# seqlength     -> is the length of every sequence\n",
    "# seq           -> holds the created sequences\n",
    "# target        -> holds the coressponding target vector alternating between 1 and -1 every created sequence\n",
    "# @Return       -> returns the created sequences and their corresponding target vector\n",
    "def createDNAvec(amount,seqlength):\n",
    "    amount = amount\n",
    "    seqlength = seqlength\n",
    "    seq = np.zeros(amount,dtype=object)\n",
    "    target = np.zeros(amount)\n",
    "    for i in range(amount):\n",
    "        seq[i] = createDNA(seqlength)\n",
    "        if i & 2 == 0:\n",
    "            target[i] = 1\n",
    "        else:\n",
    "            target[i] = -1\n",
    "    return seq,target"
   ]
  },
  {
   "cell_type": "code",
   "execution_count": 14,
   "metadata": {},
   "outputs": [],
   "source": [
    "# Reads a given CSV File and splits its content into a dictionary, in this case a table for a SVM problem\n",
    "\n",
    "# ROUTINE\n",
    "# Description: reads a CSV-File and splits its content into a dictionary\n",
    "# @Dependencies     -> None\n",
    "# @Routineparams:\n",
    "# data_raw          -> contais the unprocessed data as it was read from the CSV\n",
    "# data              -> contains a dictionary with certain collums split up into arrays\n",
    "# @Functionparams:\n",
    "# filepath          -> contais the filepath to the CSV that should be read\n",
    "# sep               -> contains the separator used in the CSV\n",
    "# @Return           -> returns the dictionary containing the specified arrays\n",
    "def readInput(filepath,sep):\n",
    "    data_raw = pd.read_csv(filepath, sep=sep)\n",
    "    data = {'data': data_raw.iloc[:, -1],\n",
    "             'target': np.where(data_raw.iloc[:, 0] == '-', -1 ,1),\n",
    "             'feature_names': data_raw.columns[2],\n",
    "             'target_names': ['pos', 'neg']}\n",
    "    return data"
   ]
  },
  {
   "cell_type": "code",
   "execution_count": 15,
   "metadata": {},
   "outputs": [],
   "source": [
    "# ROUTINE \n",
    "# Description: reads a CSV-File and splits its content into a dictionary\n",
    "# @Dependencies:     \n",
    "# Bio.Seq           -> from Bio.Seq import Seq\n",
    "# @Routineparams:\n",
    "# data_transformed  -> contais an array of chars that have been converted to a sequence\n",
    "# @Functionparams:\n",
    "# data              -> contais an array of chars that should be converted to a sequence\n",
    "# @Return           -> returns an array with sequences\n",
    "def transformToSeq(data):\n",
    "    dataTransformed = [Seq(x) for x in data]\n",
    "    return dataTransformed    "
   ]
  },
  {
   "cell_type": "code",
   "execution_count": 16,
   "metadata": {},
   "outputs": [],
   "source": [
    "# Data preprocessing\n",
    "DNAS = createDNAvec(10,50)\n",
    "data = readInput('testdata/promoters.csv',\",\")\n",
    "data['data'] = transformToSeq(data['data'])\n"
   ]
  },
  {
   "cell_type": "code",
   "execution_count": 17,
   "metadata": {},
   "outputs": [],
   "source": [
    "# Creating a PyKebabs object\n",
    "flo = pb.Pybabs(data,'dna')"
   ]
  },
  {
   "cell_type": "code",
   "execution_count": 18,
   "metadata": {},
   "outputs": [
    {
     "name": "stdout",
     "output_type": "stream",
     "text": [
      "SVC was choosen\n"
     ]
    },
    {
     "data": {
      "text/plain": [
       "(SVC(C=0.5, kernel='linear'), 0.8115468409586056, 2, 0)"
      ]
     },
     "execution_count": 18,
     "metadata": {},
     "output_type": "execute_result"
    }
   ],
   "source": [
    "#Test unbiasedCV specKernel creation\n",
    "spec_model = flo.unbiasedCV(k=2,g=0)\n",
    "spec_model"
   ]
  },
  {
   "cell_type": "code",
   "execution_count": 19,
   "metadata": {},
   "outputs": [
    {
     "name": "stdout",
     "output_type": "stream",
     "text": [
      "SVC was choosen\n"
     ]
    },
    {
     "data": {
      "text/plain": [
       "(SVC(C=0.5, kernel='linear'), 0.8937908496732025, 4, 2)"
      ]
     },
     "execution_count": 19,
     "metadata": {},
     "output_type": "execute_result"
    }
   ],
   "source": [
    "#Test unbiasedCV gappyKernel creation\n",
    "gappy_model = flo.unbiasedCV(k=4,g=2)\n",
    "gappy_model"
   ]
  },
  {
   "cell_type": "code",
   "execution_count": 20,
   "metadata": {},
   "outputs": [
    {
     "name": "stdout",
     "output_type": "stream",
     "text": [
      "SVC was choosen\n",
      "Fitting 3 folds for each of 4 candidates, totalling 12 fits\n",
      ">acc=0.682, est=0.655, cfg={'C': 0.5}\n",
      "Fitting 3 folds for each of 4 candidates, totalling 12 fits\n",
      ">acc=0.952, est=0.618, cfg={'C': 0.5}\n",
      "Fitting 3 folds for each of 4 candidates, totalling 12 fits\n",
      ">acc=1.000, est=0.719, cfg={'C': 0.5}\n",
      "Fitting 3 folds for each of 4 candidates, totalling 12 fits\n",
      ">acc=1.000, est=0.646, cfg={'C': 0.5}\n",
      "Fitting 3 folds for each of 4 candidates, totalling 12 fits\n",
      ">acc=0.810, est=0.739, cfg={'C': 0.5}\n",
      "Accuracy: 0.889 (0.125)\n"
     ]
    },
    {
     "data": {
      "text/plain": [
       "(SVC(C=0.5, kernel='linear'), 0.8887445887445887, 4, 0)"
      ]
     },
     "execution_count": 20,
     "metadata": {},
     "output_type": "execute_result"
    }
   ],
   "source": [
    "#Test unbiasedCV outercv,innercv and verbose\n",
    "cv_model = flo.unbiasedCV(k=4,g=0,outercv=5,innercv=3,verbose=3)\n",
    "cv_model"
   ]
  },
  {
   "cell_type": "code",
   "execution_count": 21,
   "metadata": {},
   "outputs": [
    {
     "name": "stdout",
     "output_type": "stream",
     "text": [
      "SVC was choosen\n",
      "Fitting 3 folds for each of 2 candidates, totalling 6 fits\n",
      "[CV 1/3] END ...............................C=1;, score=0.167 total time=   0.0s\n",
      "[CV 2/3] END ...............................C=1;, score=1.000 total time=   0.0s\n",
      "[CV 3/3] END ...............................C=1;, score=0.862 total time=   0.0s\n",
      "[CV 1/3] END ...............................C=2;, score=0.167 total time=   0.0s\n",
      "[CV 2/3] END ...............................C=2;, score=1.000 total time=   0.0s\n",
      "[CV 3/3] END ...............................C=2;, score=0.862 total time=   0.0s\n",
      ">acc=0.722, est=0.676, cfg={'C': 1}\n",
      "Fitting 3 folds for each of 2 candidates, totalling 6 fits\n",
      "[CV 1/3] END ...............................C=1;, score=0.100 total time=   0.0s\n",
      "[CV 2/3] END ...............................C=1;, score=1.000 total time=   0.0s\n",
      "[CV 3/3] END ...............................C=1;, score=0.828 total time=   0.0s\n",
      "[CV 1/3] END ...............................C=2;, score=0.100 total time=   0.0s\n",
      "[CV 2/3] END ...............................C=2;, score=1.000 total time=   0.0s\n",
      "[CV 3/3] END ...............................C=2;, score=0.828 total time=   0.0s\n",
      ">acc=0.944, est=0.643, cfg={'C': 1}\n",
      "Fitting 3 folds for each of 2 candidates, totalling 6 fits\n",
      "[CV 1/3] END ...............................C=1;, score=0.067 total time=   0.0s\n",
      "[CV 2/3] END ...............................C=1;, score=1.000 total time=   0.0s\n",
      "[CV 3/3] END ...............................C=1;, score=0.828 total time=   0.0s\n",
      "[CV 1/3] END ...............................C=2;, score=0.067 total time=   0.0s\n",
      "[CV 2/3] END ...............................C=2;, score=1.000 total time=   0.0s\n",
      "[CV 3/3] END ...............................C=2;, score=0.828 total time=   0.0s\n",
      ">acc=0.889, est=0.631, cfg={'C': 1}\n",
      "Fitting 3 folds for each of 2 candidates, totalling 6 fits\n",
      "[CV 1/3] END ...............................C=1;, score=0.733 total time=   0.0s\n",
      "[CV 2/3] END ...............................C=1;, score=0.966 total time=   0.0s\n",
      "[CV 3/3] END ...............................C=1;, score=0.207 total time=   0.0s\n",
      "[CV 1/3] END ...............................C=2;, score=0.733 total time=   0.0s\n",
      "[CV 2/3] END ...............................C=2;, score=0.966 total time=   0.0s\n",
      "[CV 3/3] END ...............................C=2;, score=0.207 total time=   0.0s\n",
      ">acc=1.000, est=0.635, cfg={'C': 1}\n",
      "Fitting 3 folds for each of 2 candidates, totalling 6 fits\n",
      "[CV 1/3] END ...............................C=1;, score=0.733 total time=   0.0s\n",
      "[CV 2/3] END ...............................C=1;, score=0.967 total time=   0.0s\n",
      "[CV 3/3] END ...............................C=1;, score=0.379 total time=   0.0s\n",
      "[CV 1/3] END ...............................C=2;, score=0.733 total time=   0.0s\n",
      "[CV 2/3] END ...............................C=2;, score=0.967 total time=   0.0s\n",
      "[CV 3/3] END ...............................C=2;, score=0.379 total time=   0.0s\n",
      ">acc=1.000, est=0.693, cfg={'C': 1}\n",
      "Fitting 3 folds for each of 2 candidates, totalling 6 fits\n",
      "[CV 1/3] END ...............................C=1;, score=0.833 total time=   0.0s\n",
      "[CV 2/3] END ...............................C=1;, score=0.967 total time=   0.0s\n",
      "[CV 3/3] END ...............................C=1;, score=0.414 total time=   0.0s\n",
      "[CV 1/3] END ...............................C=2;, score=0.833 total time=   0.0s\n",
      "[CV 2/3] END ...............................C=2;, score=0.967 total time=   0.0s\n",
      "[CV 3/3] END ...............................C=2;, score=0.414 total time=   0.0s\n",
      ">acc=0.706, est=0.738, cfg={'C': 1}\n",
      "Accuracy: 0.877 (0.121)\n"
     ]
    },
    {
     "data": {
      "text/plain": [
       "(SVC(C=1, kernel='linear'), 0.8769063180827886, 4, 0)"
      ]
     },
     "execution_count": 21,
     "metadata": {},
     "output_type": "execute_result"
    }
   ],
   "source": [
    "#Test C\n",
    "c_model = flo.unbiasedCV(k=4,g=0,verbose=5, C=[1,2])\n",
    "c_model"
   ]
  },
  {
   "cell_type": "code",
   "execution_count": 22,
   "metadata": {},
   "outputs": [
    {
     "name": "stdout",
     "output_type": "stream",
     "text": [
      "Liblinear was choosen\n",
      ">acc=0.722, est=0.710, cfg={'C': 1}\n",
      ">acc=0.944, est=0.665, cfg={'C': 1}\n",
      ">acc=0.889, est=0.676, cfg={'C': 1}\n",
      ">acc=1.000, est=0.635, cfg={'C': 1}\n",
      ">acc=1.000, est=0.705, cfg={'C': 1}\n",
      ">acc=0.706, est=0.749, cfg={'C': 1}\n",
      "Accuracy: 0.877 (0.121)\n"
     ]
    },
    {
     "data": {
      "text/plain": [
       "(LinearSVC(C=1), 0.8769063180827886, 4, 0)"
      ]
     },
     "execution_count": 22,
     "metadata": {},
     "output_type": "execute_result"
    }
   ],
   "source": [
    "#Test SVM\n",
    "svm_model = flo.unbiasedCV(k=4,g=0,verbose=2, C=[1,2],svmc='Lib')\n",
    "svm_model"
   ]
  },
  {
   "cell_type": "code",
   "execution_count": 23,
   "metadata": {},
   "outputs": [
    {
     "name": "stdout",
     "output_type": "stream",
     "text": [
      "K=1 G=0\n",
      "Kernel for k=1 and g=0 built\n",
      "SVC was choosen\n",
      ">acc=0.333, est=0.492, cfg={'C': 0.5}\n",
      ">acc=0.667, est=0.424, cfg={'C': 4}\n",
      ">acc=0.556, est=0.379, cfg={'C': 0.5}\n",
      ">acc=0.444, est=0.397, cfg={'C': 0.5}\n",
      ">acc=0.706, est=0.300, cfg={'C': 1}\n",
      ">acc=0.412, est=0.378, cfg={'C': 0.5}\n",
      "Accuracy: 0.520 (0.135)\n",
      "Accuracy new best model: 0.5196078431372549\n",
      "K=2 G=0\n",
      "Kernel for k=2 and g=0 built\n",
      "SVC was choosen\n",
      ">acc=0.722, est=0.697, cfg={'C': 1}\n",
      ">acc=0.889, est=0.675, cfg={'C': 0.5}\n",
      ">acc=0.722, est=0.707, cfg={'C': 4}\n",
      ">acc=0.889, est=0.611, cfg={'C': 0.5}\n",
      ">acc=0.882, est=0.717, cfg={'C': 1}\n",
      ">acc=0.765, est=0.730, cfg={'C': 0.5}\n",
      "Accuracy: 0.812 (0.077)\n",
      "Accuracy new best model: 0.8115468409586056\n",
      "K=3 G=0\n",
      "Kernel for k=3 and g=0 built\n",
      "SVC was choosen\n",
      ">acc=0.611, est=0.719, cfg={'C': 0.5}\n",
      ">acc=0.833, est=0.674, cfg={'C': 0.5}\n",
      ">acc=0.944, est=0.584, cfg={'C': 0.5}\n",
      ">acc=0.944, est=0.624, cfg={'C': 0.5}\n",
      ">acc=0.941, est=0.649, cfg={'C': 0.5}\n",
      ">acc=0.706, est=0.772, cfg={'C': 0.5}\n",
      "Accuracy: 0.830 (0.130)\n",
      "Accuracy new best model: 0.8300653594771243\n",
      "K=4 G=0\n",
      "Kernel for k=4 and g=0 built\n",
      "SVC was choosen\n",
      ">acc=0.722, est=0.676, cfg={'C': 0.5}\n",
      ">acc=0.944, est=0.643, cfg={'C': 0.5}\n",
      ">acc=0.889, est=0.631, cfg={'C': 0.5}\n",
      ">acc=1.000, est=0.635, cfg={'C': 0.5}\n",
      ">acc=1.000, est=0.693, cfg={'C': 0.5}\n",
      ">acc=0.706, est=0.738, cfg={'C': 0.5}\n",
      "Accuracy: 0.877 (0.121)\n",
      "Accuracy new best model: 0.8769063180827886\n"
     ]
    },
    {
     "data": {
      "text/plain": [
       "(SVC(C=0.5, kernel='linear'), 0.8769063180827886, 4, 0)"
      ]
     },
     "execution_count": 23,
     "metadata": {},
     "output_type": "execute_result"
    }
   ],
   "source": [
    "#Test kernopt spec\n",
    "kernoptSpec_model = flo.unbiasedCV(k=4,g=0,verbose=2,kernopt=True)\n",
    "kernoptSpec_model"
   ]
  },
  {
   "cell_type": "code",
   "execution_count": 24,
   "metadata": {},
   "outputs": [
    {
     "name": "stdout",
     "output_type": "stream",
     "text": [
      "K=1 G=1\n",
      "Kernel for k=1 and g=1 built\n",
      "SVC was choosen\n",
      ">acc=0.778, est=0.718, cfg={'C': 1}\n",
      ">acc=0.722, est=0.730, cfg={'C': 1}\n",
      ">acc=0.778, est=0.694, cfg={'C': 1}\n",
      ">acc=0.889, est=0.600, cfg={'C': 1}\n",
      ">acc=0.882, est=0.661, cfg={'C': 1}\n",
      ">acc=0.706, est=0.750, cfg={'C': 1}\n",
      "Accuracy: 0.792 (0.071)\n",
      "Accuracy new best model: 0.7924836601307189\n",
      "K=2 G=1\n",
      "Kernel for k=2 and g=1 built\n",
      "SVC was choosen\n",
      ">acc=0.778, est=0.665, cfg={'C': 1}\n",
      ">acc=1.000, est=0.620, cfg={'C': 1}\n",
      ">acc=0.944, est=0.654, cfg={'C': 1}\n",
      ">acc=1.000, est=0.657, cfg={'C': 1}\n",
      ">acc=1.000, est=0.727, cfg={'C': 1}\n",
      ">acc=0.882, est=0.738, cfg={'C': 1}\n",
      "Accuracy: 0.934 (0.082)\n",
      "Accuracy new best model: 0.9340958605664488\n",
      "K=1 G=2\n",
      "Kernel for k=1 and g=2 built\n",
      "SVC was choosen\n",
      ">acc=0.778, est=0.719, cfg={'C': 1}\n",
      ">acc=0.778, est=0.719, cfg={'C': 1}\n",
      ">acc=0.667, est=0.717, cfg={'C': 1}\n",
      ">acc=0.944, est=0.623, cfg={'C': 1}\n",
      ">acc=0.882, est=0.660, cfg={'C': 1}\n",
      ">acc=0.647, est=0.671, cfg={'C': 1}\n",
      "Accuracy: 0.783 (0.106)\n",
      "Modell has worse key figures\n",
      "K=2 G=2\n",
      "Kernel for k=2 and g=2 built\n",
      "SVC was choosen\n",
      ">acc=0.833, est=0.620, cfg={'C': 1}\n",
      ">acc=1.000, est=0.608, cfg={'C': 1}\n",
      ">acc=0.889, est=0.642, cfg={'C': 1}\n",
      ">acc=0.889, est=0.646, cfg={'C': 1}\n",
      ">acc=1.000, est=0.716, cfg={'C': 1}\n",
      ">acc=0.824, est=0.749, cfg={'C': 1}\n",
      "Accuracy: 0.906 (0.071)\n",
      "Modell has worse key figures\n"
     ]
    },
    {
     "data": {
      "text/plain": [
       "(SVC(C=1, kernel='linear'), 0.9340958605664488, 2, 2)"
      ]
     },
     "execution_count": 24,
     "metadata": {},
     "output_type": "execute_result"
    }
   ],
   "source": [
    "#Test kernopt gappy\n",
    "kernoptGappy_model = flo.unbiasedCV(k=2,g=2,verbose=2, C=[1,2],kernopt=True)\n",
    "kernoptGappy_model"
   ]
  },
  {
   "cell_type": "code",
   "execution_count": 25,
   "metadata": {},
   "outputs": [
    {
     "name": "stdout",
     "output_type": "stream",
     "text": [
      "SVC was choosen\n"
     ]
    },
    {
     "data": {
      "text/plain": [
       "(SVC(C=4, kernel='linear'), 0.1781045751633987, 2, 0)"
      ]
     },
     "execution_count": 25,
     "metadata": {},
     "output_type": "execute_result"
    }
   ],
   "source": [
    "#Test sparse,norm and gram specKernel creation\n",
    "spec_modelparams = flo.unbiasedCV(k=2,g=0,norm=True,sparse=True,gram=True)\n",
    "spec_modelparams"
   ]
  },
  {
   "cell_type": "code",
   "execution_count": 26,
   "metadata": {},
   "outputs": [
    {
     "name": "stdout",
     "output_type": "stream",
     "text": [
      "SVC was choosen\n",
      "TRAIN INDEXES: [  0   2   3   4   5   6   7   8  10  12  13  14  16  17  18  20  22  23\n",
      "  24  26  27  28  29  30  32  33  34  36  37  38  40  42  43  44  46  47\n",
      "  48  50  52  53  54  56  57  58  60  62  63  64  66  67  68  70  72  73\n",
      "  74  76  77  78  80  82  83  84  86  87  88  90  92  93  94  96  97  98\n",
      " 100 102 103 104], TEST INDEXES: [  1   9  11  15  19  21  25  31  35  39  41  45  49  51  55  59  61  65\n",
      "  69  71  75  79  81  85  89  91  95  99 101 105]\n",
      "\n",
      "Fitting 3 folds for each of 4 candidates, totalling 12 fits\n",
      ">acc=0.967, est=0.646, cfg={'C': 0.5}\n",
      "TRAIN INDEXES: [  1   2   3   4   5   6   7   9  11  12  13  15  16  17  19  21  22  23\n",
      "  25  26  27  28  29  31  32  33  35  36  37  39  41  42  43  45  46  47\n",
      "  49  51  52  53  55  56  57  59  61  62  63  65  66  67  69  71  72  73\n",
      "  75  76  77  79  81  82  83  85  86  87  89  91  92  93  95  96  97  99\n",
      " 101 102 103 105], TEST INDEXES: [  0   8  10  14  18  20  24  30  34  38  40  44  48  50  54  58  60  64\n",
      "  68  70  74  78  80  84  88  90  94  98 100 104]\n",
      "\n",
      "Fitting 3 folds for each of 4 candidates, totalling 12 fits\n",
      ">acc=0.967, est=0.726, cfg={'C': 0.5}\n",
      "TRAIN INDEXES: [  0   1   2   4   5   6   8   9  10  11  12  14  15  16  18  19  20  21\n",
      "  22  24  25  26  28  29  30  31  32  34  35  36  38  39  40  41  42  44\n",
      "  45  46  48  49  50  51  52  54  55  56  58  59  60  61  62  64  65  66\n",
      "  68  69  70  71  72  74  75  76  78  79  80  81  82  84  85  86  88  89\n",
      "  90  91  92  94  95  96  98  99 100 101 102 104 105], TEST INDEXES: [  3   7  13  17  23  27  33  37  43  47  53  57  63  67  73  77  83  87\n",
      "  93  97 103]\n",
      "\n",
      "Fitting 3 folds for each of 4 candidates, totalling 12 fits\n",
      ">acc=0.952, est=0.686, cfg={'C': 0.5}\n",
      "TRAIN INDEXES: [  0   1   3   4   5   7   8   9  10  11  13  14  15  17  18  19  20  21\n",
      "  23  24  25  27  28  29  30  31  33  34  35  37  38  39  40  41  43  44\n",
      "  45  47  48  49  50  51  53  54  55  57  58  59  60  61  63  64  65  67\n",
      "  68  69  70  71  73  74  75  77  78  79  80  81  83  84  85  87  88  89\n",
      "  90  91  93  94  95  97  98  99 100 101 103 104 105], TEST INDEXES: [  2   6  12  16  22  26  32  36  42  46  52  56  62  66  72  76  82  86\n",
      "  92  96 102]\n",
      "\n",
      "Fitting 3 folds for each of 4 candidates, totalling 12 fits\n",
      ">acc=0.905, est=0.768, cfg={'C': 0.5}\n",
      "TRAIN INDEXES: [  0   1   2   3   4   6   7   8   9  10  11  12  13  14  15  16  17  18\n",
      "  19  20  21  22  23  24  25  26  27  28  30  31  32  33  34  35  36  37\n",
      "  38  39  40  41  42  43  44  45  46  47  48  49  50  51  52  53  54  55\n",
      "  56  57  58  59  60  61  62  63  64  65  66  67  68  69  70  71  72  73\n",
      "  74  75  76  77  78  79  80  81  82  83  84  85  86  87  88  89  90  91\n",
      "  92  93  94  95  96  97  98  99 100 101 102 103 104 105], TEST INDEXES: [ 5 29]\n",
      "\n",
      "Fitting 3 folds for each of 4 candidates, totalling 12 fits\n",
      ">acc=1.000, est=0.780, cfg={'C': 0.5}\n",
      "TRAIN INDEXES: [  0   1   2   3   5   6   7   8   9  10  11  12  13  14  15  16  17  18\n",
      "  19  20  21  22  23  24  25  26  27  29  30  31  32  33  34  35  36  37\n",
      "  38  39  40  41  42  43  44  45  46  47  48  49  50  51  52  53  54  55\n",
      "  56  57  58  59  60  61  62  63  64  65  66  67  68  69  70  71  72  73\n",
      "  74  75  76  77  78  79  80  81  82  83  84  85  86  87  88  89  90  91\n",
      "  92  93  94  95  96  97  98  99 100 101 102 103 104 105], TEST INDEXES: [ 4 28]\n",
      "\n",
      "Fitting 3 folds for each of 4 candidates, totalling 12 fits\n",
      ">acc=1.000, est=0.761, cfg={'C': 0.5}\n",
      "Accuracy: 0.965 (0.032)\n"
     ]
    },
    {
     "data": {
      "text/plain": [
       "(SVC(C=0.5, kernel='linear'), 0.9650793650793651)"
      ]
     },
     "execution_count": 26,
     "metadata": {},
     "output_type": "execute_result"
    }
   ],
   "source": [
    "#Test grouped-crossval\n",
    "groups = [0,1,2,3,4,5,2,3,0,1,0,1,2,3,0,1,2,3,0,1,0,1,2,3,0,1,2,3,4,5,0,1,2,3,0,1,2,3,0,1,0,1,2,3,0,1,2,3,0,1,0,1,2,3,0,1,2,3,0,1,0,1,2,3,0,1,2,3,0,1,0,1,2,3,0,1,2,3,0,1,0,1,2,3,0,1,2,3,0,1,0,1,2,3,0,1,2,3,0,1,0,1,2,3,0,1]\n",
    "flo.groupedCV(4,0,groups,verbose=3)"
   ]
  },
  {
   "cell_type": "code",
   "execution_count": 27,
   "metadata": {},
   "outputs": [],
   "source": [
    "#Test kernelcreation spec\n",
    "kernel = flo.createKernel(6,0,sparse=False,gram=False,norm=True)"
   ]
  },
  {
   "cell_type": "code",
   "execution_count": 28,
   "metadata": {},
   "outputs": [],
   "source": [
    "#Test kernelcreation gappy\n",
    "kernel = flo.createKernel(4,2,sparse=True,gram=False,norm=True)"
   ]
  },
  {
   "cell_type": "code",
   "execution_count": 29,
   "metadata": {},
   "outputs": [
    {
     "name": "stdout",
     "output_type": "stream",
     "text": [
      "SVC was choosen\n"
     ]
    }
   ],
   "source": [
    "#Test SVM-model creation\n",
    "model = flo.pybabsSVMtrain(4,0,0.0125)"
   ]
  },
  {
   "cell_type": "code",
   "execution_count": 30,
   "metadata": {},
   "outputs": [
    {
     "data": {
      "text/html": [
       "<div>\n",
       "<style scoped>\n",
       "    .dataframe tbody tr th:only-of-type {\n",
       "        vertical-align: middle;\n",
       "    }\n",
       "\n",
       "    .dataframe tbody tr th {\n",
       "        vertical-align: top;\n",
       "    }\n",
       "\n",
       "    .dataframe thead th {\n",
       "        text-align: right;\n",
       "    }\n",
       "</style>\n",
       "<table border=\"1\" class=\"dataframe\">\n",
       "  <thead>\n",
       "    <tr style=\"text-align: right;\">\n",
       "      <th></th>\n",
       "      <th>letters</th>\n",
       "      <th>val</th>\n",
       "    </tr>\n",
       "  </thead>\n",
       "  <tbody>\n",
       "    <tr>\n",
       "      <th>252</th>\n",
       "      <td>TTTA</td>\n",
       "      <td>0.135889</td>\n",
       "    </tr>\n",
       "    <tr>\n",
       "      <th>15</th>\n",
       "      <td>AATT</td>\n",
       "      <td>0.127870</td>\n",
       "    </tr>\n",
       "    <tr>\n",
       "      <th>0</th>\n",
       "      <td>AAAA</td>\n",
       "      <td>0.121930</td>\n",
       "    </tr>\n",
       "    <tr>\n",
       "      <th>204</th>\n",
       "      <td>TATA</td>\n",
       "      <td>0.112215</td>\n",
       "    </tr>\n",
       "    <tr>\n",
       "      <th>255</th>\n",
       "      <td>TTTT</td>\n",
       "      <td>0.107482</td>\n",
       "    </tr>\n",
       "    <tr>\n",
       "      <th>...</th>\n",
       "      <td>...</td>\n",
       "      <td>...</td>\n",
       "    </tr>\n",
       "    <tr>\n",
       "      <th>113</th>\n",
       "      <td>CTAC</td>\n",
       "      <td>-0.105530</td>\n",
       "    </tr>\n",
       "    <tr>\n",
       "      <th>210</th>\n",
       "      <td>TCAG</td>\n",
       "      <td>-0.112030</td>\n",
       "    </tr>\n",
       "    <tr>\n",
       "      <th>73</th>\n",
       "      <td>CAGC</td>\n",
       "      <td>-0.114683</td>\n",
       "    </tr>\n",
       "    <tr>\n",
       "      <th>116</th>\n",
       "      <td>CTCA</td>\n",
       "      <td>-0.130428</td>\n",
       "    </tr>\n",
       "    <tr>\n",
       "      <th>208</th>\n",
       "      <td>TCAA</td>\n",
       "      <td>-0.141684</td>\n",
       "    </tr>\n",
       "  </tbody>\n",
       "</table>\n",
       "<p>256 rows × 2 columns</p>\n",
       "</div>"
      ],
      "text/plain": [
       "    letters       val\n",
       "252    TTTA  0.135889\n",
       "15     AATT  0.127870\n",
       "0      AAAA  0.121930\n",
       "204    TATA  0.112215\n",
       "255    TTTT  0.107482\n",
       "..      ...       ...\n",
       "113    CTAC -0.105530\n",
       "210    TCAG -0.112030\n",
       "73     CAGC -0.114683\n",
       "116    CTCA -0.130428\n",
       "208    TCAA -0.141684\n",
       "\n",
       "[256 rows x 2 columns]"
      ]
     },
     "execution_count": 30,
     "metadata": {},
     "output_type": "execute_result"
    }
   ],
   "source": [
    "df,dict = flo.getWeights(model)\n",
    "df1,dict1 = flo.getWeights(spec_model)\n",
    "df"
   ]
  },
  {
   "cell_type": "code",
   "execution_count": 31,
   "metadata": {},
   "outputs": [
    {
     "name": "stdout",
     "output_type": "stream",
     "text": [
      "Prediction profiles are generated with k = 4\n",
      "Profile is generated for Seq:ctatatgcgctcatacgatatgaacgttgagactgccgctgagttatcagctgtgaa\n"
     ]
    },
    {
     "data": {
      "image/png": "[encoded data removed]",
      "text/plain": [
       "<Figure size 2160x864 with 1 Axes>"
      ]
     },
     "metadata": {
      "needs_background": "light"
     },
     "output_type": "display_data"
    }
   ],
   "source": [
    "flo.getPredProfile(model,80)"
   ]
  },
  {
   "cell_type": "code",
   "execution_count": 32,
   "metadata": {},
   "outputs": [
    {
     "name": "stdout",
     "output_type": "stream",
     "text": [
      "Prediction profiles are generated with k = 2\n",
      "Profile is generated for Seq:ctatatgcgctcatacgatatgaacgttgagactgccgctgagttatcagctgtgaa\n"
     ]
    },
    {
     "data": {
      "image/png": "[encoded data removed]",
      "text/plain": [
       "<Figure size 2160x864 with 1 Axes>"
      ]
     },
     "metadata": {},
     "output_type": "display_data"
    }
   ],
   "source": [
    "flo.getPredProfile(spec_model,80)"
   ]
  }
 ],
 "metadata": {
  "kernelspec": {
   "display_name": "Python 3.8.13 ('pyroKebabs')",
   "language": "python",
   "name": "python3"
  },
  "language_info": {
   "codemirror_mode": {
    "name": "ipython",
    "version": 3
   },
   "file_extension": ".py",
   "mimetype": "text/x-python",
   "name": "python",
   "nbconvert_exporter": "python",
   "pygments_lexer": "ipython3",
   "version": "3.8.13"
  },
  "orig_nbformat": 4,
  "vscode": {
   "interpreter": {
    "hash": "ba8da089405a027310d02ff3cb015109f84c1127d4518c6b6cfcab1c37332692"
   }
  }
 },
 "nbformat": 4,
 "nbformat_minor": 2
}
