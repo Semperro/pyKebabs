{
 "cells": [
  {
   "cell_type": "code",
   "execution_count": null,
   "metadata": {},
   "outputs": [],
   "source": [
    "import pyrokebabs as pb\n",
    "import pandas as pd\n",
    "import numpy as np\n",
    "from Bio.Seq import Seq\n",
    "from sklearn.model_selection import train_test_split, cross_validate, GridSearchCV, LeaveOneOut, KFold\n",
    "#!pip install Bio strkernel\n",
    "from sklearn.svm import SVC\n",
    "import time\n",
    "from sklearn.model_selection import GroupKFold\n",
    "from sklearn.svm import LinearSVC\n",
    "import random"
   ]
  },
  {
   "cell_type": "code",
   "execution_count": null,
   "metadata": {},
   "outputs": [],
   "source": [
    "# Creates random DNA sequences\n",
    "\n",
    "# SUBROUTINE \n",
    "# Description: creates a random string from given chars\n",
    "# @Dependencies     -> None\n",
    "# @Routineparams:\n",
    "# letters           -> contais the letters used for creating the sequence\n",
    "# @Functionparams:\n",
    "# length            -> defines the final length if every sequence \n",
    "# @Return           -> returns a random DNA sequence of choosen params\n",
    "def createDNA(length):\n",
    "    letters = ['C','G','T','A']\n",
    "    return ''.join(random.choice('CGTA') for _ in range(length))\n",
    "\n",
    "\n",
    "#ROUTINE\n",
    "# Description: Sets the wanted params and calls subroutine createDNA\n",
    "# @Dependencies:\n",
    "# numpy         -> import numpy as np\n",
    "# @Routineparams:\n",
    "# amount        -> the number of sequences that should be created\n",
    "# seqlength     -> is the length of every sequence\n",
    "# seq           -> holds the created sequences\n",
    "# target        -> holds the coressponding target vector alternating between 1 and -1 every created sequence\n",
    "# @Return       -> returns the created sequences and their corresponding target vector\n",
    "def createDNAvec(amount,seqlength):\n",
    "    amount = amount\n",
    "    seqlength = seqlength\n",
    "    seq = np.zeros(amount,dtype=object)\n",
    "    target = np.zeros(amount)\n",
    "    for i in range(amount):\n",
    "        seq[i] = createDNA(seqlength)\n",
    "        if i & 2 == 0:\n",
    "            target[i] = 1\n",
    "        else:\n",
    "            target[i] = -1\n",
    "    return seq,target"
   ]
  },
  {
   "cell_type": "code",
   "execution_count": null,
   "metadata": {},
   "outputs": [],
   "source": [
    "# Reads a given CSV File and splits its content into a dictionary, in this case a table for a SVM problem\n",
    "\n",
    "# ROUTINE\n",
    "# Description: reads a CSV-File and splits its content into a dictionary\n",
    "# @Dependencies     -> None\n",
    "# @Routineparams:\n",
    "# data_raw          -> contais the unprocessed data as it was read from the CSV\n",
    "# data              -> contains a dictionary with certain collums split up into arrays\n",
    "# @Functionparams:\n",
    "# filepath          -> contais the filepath to the CSV that should be read\n",
    "# sep               -> contains the separator used in the CSV\n",
    "# @Return           -> returns the dictionary containing the specified arrays\n",
    "def readInput(filepath,sep):\n",
    "    data_raw = pd.read_csv(filepath, sep=sep)\n",
    "    data = {'data': data_raw.iloc[:, -1],\n",
    "             'target': np.where(data_raw.iloc[:, 0] == '-', -1 ,1),\n",
    "             'feature_names': data_raw.columns[2],\n",
    "             'target_names': ['pos', 'neg']}\n",
    "    return data"
   ]
  },
  {
   "cell_type": "code",
   "execution_count": null,
   "metadata": {},
   "outputs": [],
   "source": [
    "# ROUTINE \n",
    "# Description: reads a CSV-File and splits its content into a dictionary\n",
    "# @Dependencies:     \n",
    "# Bio.Seq           -> from Bio.Seq import Seq\n",
    "# @Routineparams:\n",
    "# data_transformed  -> contais an array of chars that have been converted to a sequence\n",
    "# @Functionparams:\n",
    "# data              -> contais an array of chars that should be converted to a sequence\n",
    "# @Return           -> returns an array with sequences\n",
    "def transformToSeq(data):\n",
    "    dataTransformed = [Seq(x) for x in data]\n",
    "    return dataTransformed    "
   ]
  },
  {
   "cell_type": "code",
   "execution_count": null,
   "metadata": {},
   "outputs": [],
   "source": [
    "# Data preprocessing\n",
    "DNAS = createDNAvec(10,50)\n",
    "data = readInput('testdata/promoters.csv',\",\")\n",
    "data['data'] = transformToSeq(data['data'])\n"
   ]
  },
  {
   "cell_type": "code",
   "execution_count": null,
   "metadata": {},
   "outputs": [],
   "source": [
    "# Creating a PyKebabs object\n",
    "flo = pb.Pybabs(data,'dna')"
   ]
  },
  {
   "cell_type": "code",
   "execution_count": null,
   "metadata": {},
   "outputs": [],
   "source": [
    "#Test unbiasedCV specKernel creation\n",
    "spec_model = flo.unbiasedCV(k=2,g=0)\n",
    "spec_model"
   ]
  },
  {
   "cell_type": "code",
   "execution_count": null,
   "metadata": {},
   "outputs": [],
   "source": [
    "#Test unbiasedCV gappyKernel creation\n",
    "gappy_model = flo.unbiasedCV(k=4,g=2)\n",
    "gappy_model"
   ]
  },
  {
   "cell_type": "code",
   "execution_count": null,
   "metadata": {},
   "outputs": [],
   "source": [
    "#Test unbiasedCV outercv,innercv and verbose\n",
    "cv_model = flo.unbiasedCV(k=4,g=0,outercv=5,innercv=3,verbose=3)\n",
    "cv_model"
   ]
  },
  {
   "cell_type": "code",
   "execution_count": null,
   "metadata": {},
   "outputs": [],
   "source": [
    "#Test C\n",
    "c_model = flo.unbiasedCV(k=4,g=0,verbose=5, C=[1,2])\n",
    "c_model"
   ]
  },
  {
   "cell_type": "code",
   "execution_count": null,
   "metadata": {},
   "outputs": [],
   "source": [
    "#Test SVM\n",
    "svm_model = flo.unbiasedCV(k=4,g=0,verbose=2, C=[1,2],svm='Lib')\n",
    "svm_model"
   ]
  },
  {
   "cell_type": "code",
   "execution_count": null,
   "metadata": {},
   "outputs": [],
   "source": [
    "#Test kernopt spec\n",
    "kernoptSpec_model = flo.unbiasedCV(k=4,g=0,verbose=2,kernopt=True)\n",
    "kernoptSpec_model"
   ]
  },
  {
   "cell_type": "code",
   "execution_count": null,
   "metadata": {},
   "outputs": [],
   "source": [
    "#Test kernopt gappy\n",
    "kernoptGappy_model = flo.unbiasedCV(k=2,g=2,verbose=2, C=[1,2],kernopt=True)\n",
    "kernoptGappy_model"
   ]
  },
  {
   "cell_type": "code",
   "execution_count": null,
   "metadata": {},
   "outputs": [],
   "source": [
    "#Test sparse,norm and gram specKernel creation\n",
    "spec_modelparams = flo.unbiasedCV(k=2,g=0,norm=True,sparse=True,gram=True)\n",
    "spec_modelparams"
   ]
  },
  {
   "cell_type": "code",
   "execution_count": null,
   "metadata": {},
   "outputs": [],
   "source": [
    "#Test grouped-crossval\n",
    "groups = [0,1,2,3,4,5,2,3,0,1,0,1,2,3,0,1,2,3,0,1,0,1,2,3,0,1,2,3,4,5,0,1,2,3,0,1,2,3,0,1,0,1,2,3,0,1,2,3,0,1,0,1,2,3,0,1,2,3,0,1,0,1,2,3,0,1,2,3,0,1,0,1,2,3,0,1,2,3,0,1,0,1,2,3,0,1,2,3,0,1,0,1,2,3,0,1,2,3,0,1,0,1,2,3,0,1]\n",
    "flo.groupedCV(4,0,groups,verbose=3)"
   ]
  },
  {
   "cell_type": "code",
   "execution_count": null,
   "metadata": {},
   "outputs": [],
   "source": [
    "#Test kernelcreation spec\n",
    "kernel = flo.createKernel(6,0,sparse=False,gram=False,norm=True)"
   ]
  },
  {
   "cell_type": "code",
   "execution_count": null,
   "metadata": {},
   "outputs": [],
   "source": [
    "#Test kernelcreation gappy\n",
    "kernel = flo.createKernel(4,2,sparse=True,gram=False,norm=True)"
   ]
  },
  {
   "cell_type": "code",
   "execution_count": null,
   "metadata": {},
   "outputs": [],
   "source": [
    "#Test SVM-model creation\n",
    "model = flo.pybabsSVMtrain(4,0,0.0125)"
   ]
  },
  {
   "cell_type": "code",
   "execution_count": null,
   "metadata": {},
   "outputs": [],
   "source": [
    "df,dict = flo.getWeights(model)\n",
    "df1,dict1 = flo.getWeights(spec_model)\n",
    "df"
   ]
  },
  {
   "cell_type": "code",
   "execution_count": null,
   "metadata": {},
   "outputs": [],
   "source": [
    "flo.getPredProfile(model,80)"
   ]
  },
  {
   "cell_type": "code",
   "execution_count": null,
   "metadata": {},
   "outputs": [],
   "source": [
    "flo.getPredProfile(spec_model,80)"
   ]
  }
 ],
 "metadata": {
  "kernelspec": {
   "display_name": "Python 3.8.13 ('pyroKebabs')",
   "language": "python",
   "name": "python3"
  },
  "language_info": {
   "codemirror_mode": {
    "name": "ipython",
    "version": 3
   },
   "file_extension": ".py",
   "mimetype": "text/x-python",
   "name": "python",
   "nbconvert_exporter": "python",
   "pygments_lexer": "ipython3",
   "version": "3.8.13"
  },
  "orig_nbformat": 4,
  "vscode": {
   "interpreter": {
    "hash": "ba8da089405a027310d02ff3cb015109f84c1127d4518c6b6cfcab1c37332692"
   }
  }
 },
 "nbformat": 4,
 "nbformat_minor": 2
}
