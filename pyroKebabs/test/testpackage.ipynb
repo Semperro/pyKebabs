{
 "cells": [
  {
   "cell_type": "code",
   "execution_count": 3,
   "metadata": {},
   "outputs": [
    {
     "ename": "ModuleNotFoundError",
     "evalue": "No module named 'pyroKebabs'",
     "output_type": "error",
     "traceback": [
      "\u001b[1;31m---------------------------------------------------------------------------\u001b[0m",
      "\u001b[1;31mModuleNotFoundError\u001b[0m                       Traceback (most recent call last)",
      "\u001b[1;32mc:\\Users\\Semperro\\pybabs\\pybabs\\pyroKebabs\\test\\testpackage.ipynb Cell 1'\u001b[0m in \u001b[0;36m<cell line: 1>\u001b[1;34m()\u001b[0m\n\u001b[1;32m----> <a href='vscode-notebook-cell:/c%3A/Users/Semperro/pybabs/pybabs/pyroKebabs/test/testpackage.ipynb#ch0000000?line=0'>1</a>\u001b[0m \u001b[39mimport\u001b[39;00m \u001b[39mpyroKebabs\u001b[39;00m \u001b[39mas\u001b[39;00m \u001b[39mpb\u001b[39;00m\n\u001b[0;32m      <a href='vscode-notebook-cell:/c%3A/Users/Semperro/pybabs/pybabs/pyroKebabs/test/testpackage.ipynb#ch0000000?line=1'>2</a>\u001b[0m \u001b[39mimport\u001b[39;00m \u001b[39mpandas\u001b[39;00m \u001b[39mas\u001b[39;00m \u001b[39mpd\u001b[39;00m\n\u001b[0;32m      <a href='vscode-notebook-cell:/c%3A/Users/Semperro/pybabs/pybabs/pyroKebabs/test/testpackage.ipynb#ch0000000?line=2'>3</a>\u001b[0m \u001b[39mimport\u001b[39;00m \u001b[39mnumpy\u001b[39;00m \u001b[39mas\u001b[39;00m \u001b[39mnp\u001b[39;00m\n",
      "\u001b[1;31mModuleNotFoundError\u001b[0m: No module named 'pyroKebabs'"
     ]
    }
   ],
   "source": [
    "import pyroKebabs as pb\n",
    "import pandas as pd\n",
    "import numpy as np\n",
    "from Bio.Seq import Seq"
   ]
  },
  {
   "cell_type": "code",
   "execution_count": 3,
   "metadata": {},
   "outputs": [],
   "source": [
    "promoter_data_raw = pd.read_csv('promoters.csv', sep=',')\n",
    "promoter_data = {'data': promoter_data_raw.iloc[:, -1],\n",
    "             'target': np.where(promoter_data_raw.iloc[:, 0] == '-', -1 ,1),\n",
    "             'feature_names': promoter_data_raw.columns[2],\n",
    "             'target_names': ['pos', 'neg']}\n",
    "\n",
    "#data must be presented in the form of bioSeq\n",
    "data = [Seq(x) for x in promoter_data['data']]\n",
    "target = promoter_data['target']\n",
    "#data = [Seq(x) for x in ['AATTGGCC', 'ACGTACGT', 'CCGGTTAA']]"
   ]
  },
  {
   "cell_type": "code",
   "execution_count": 4,
   "metadata": {},
   "outputs": [],
   "source": [
    "flo = pb.Pybabs(5,0,data,target)"
   ]
  },
  {
   "cell_type": "code",
   "execution_count": 5,
   "metadata": {},
   "outputs": [
    {
     "name": "stdout",
     "output_type": "stream",
     "text": [
      "K=0 G=0\n",
      "Kernel for k=0 and g=0 built\n",
      ">acc=1.000, est=0.821, cfg={'C': 0.0625}\n",
      ">acc=1.000, est=0.801, cfg={'C': 0.125}\n",
      ">acc=0.545, est=0.853, cfg={'C': 8}\n",
      ">acc=0.909, est=0.863, cfg={'C': 0.25}\n",
      ">acc=1.000, est=0.863, cfg={'C': 0.5}\n",
      ">acc=0.909, est=0.769, cfg={'C': 0.125}\n",
      ">acc=0.700, est=0.854, cfg={'C': 0.0625}\n",
      ">acc=0.900, est=0.854, cfg={'C': 0.0625}\n",
      ">acc=0.900, est=0.833, cfg={'C': 0.5}\n",
      ">acc=0.700, est=0.844, cfg={'C': 0.125}\n",
      "Accuracy: 0.856 (0.147)\n",
      "K=1 G=0\n",
      "Kernel for k=1 and g=0 built\n",
      ">acc=0.727, est=0.789, cfg={'C': 1}\n",
      ">acc=1.000, est=0.810, cfg={'C': 0.5}\n",
      ">acc=0.909, est=0.842, cfg={'C': 0.5}\n",
      ">acc=0.909, est=0.854, cfg={'C': 4}\n",
      ">acc=0.636, est=0.853, cfg={'C': 0.0625}\n",
      ">acc=0.818, est=0.852, cfg={'C': 0.0625}\n",
      ">acc=0.900, est=0.896, cfg={'C': 0.5}\n",
      ">acc=0.900, est=0.844, cfg={'C': 0.0625}\n",
      ">acc=0.900, est=0.865, cfg={'C': 0.0625}\n",
      ">acc=0.900, est=0.823, cfg={'C': 0.25}\n",
      "Accuracy: 0.860 (0.100)\n"
     ]
    }
   ],
   "source": [
    "flo.unbiasedCV(data,target,2,0)"
   ]
  },
  {
   "cell_type": "code",
   "execution_count": 6,
   "metadata": {},
   "outputs": [
    {
     "name": "stdout",
     "output_type": "stream",
     "text": [
      "acc=1.0\n",
      "Trained linear SVM in 5 seconds\n"
     ]
    }
   ],
   "source": [
    "model = flo.pybabsSVMtrain(data,target,5,0,0.03125)"
   ]
  },
  {
   "cell_type": "code",
   "execution_count": 7,
   "metadata": {},
   "outputs": [
    {
     "data": {
      "text/html": [
       "<div>\n",
       "<style scoped>\n",
       "    .dataframe tbody tr th:only-of-type {\n",
       "        vertical-align: middle;\n",
       "    }\n",
       "\n",
       "    .dataframe tbody tr th {\n",
       "        vertical-align: top;\n",
       "    }\n",
       "\n",
       "    .dataframe thead th {\n",
       "        text-align: right;\n",
       "    }\n",
       "</style>\n",
       "<table border=\"1\" class=\"dataframe\">\n",
       "  <thead>\n",
       "    <tr style=\"text-align: right;\">\n",
       "      <th></th>\n",
       "      <th>letters</th>\n",
       "      <th>val</th>\n",
       "    </tr>\n",
       "  </thead>\n",
       "  <tbody>\n",
       "    <tr>\n",
       "      <th>1023</th>\n",
       "      <td>TTTTT</td>\n",
       "      <td>0.103578</td>\n",
       "    </tr>\n",
       "    <tr>\n",
       "      <th>868</th>\n",
       "      <td>TCGCA</td>\n",
       "      <td>0.097135</td>\n",
       "    </tr>\n",
       "    <tr>\n",
       "      <th>1</th>\n",
       "      <td>AAAAC</td>\n",
       "      <td>0.093368</td>\n",
       "    </tr>\n",
       "    <tr>\n",
       "      <th>508</th>\n",
       "      <td>CTTTA</td>\n",
       "      <td>0.090284</td>\n",
       "    </tr>\n",
       "    <tr>\n",
       "      <th>0</th>\n",
       "      <td>AAAAA</td>\n",
       "      <td>0.084976</td>\n",
       "    </tr>\n",
       "    <tr>\n",
       "      <th>...</th>\n",
       "      <td>...</td>\n",
       "      <td>...</td>\n",
       "    </tr>\n",
       "    <tr>\n",
       "      <th>270</th>\n",
       "      <td>CAATG</td>\n",
       "      <td>-0.087416</td>\n",
       "    </tr>\n",
       "    <tr>\n",
       "      <th>151</th>\n",
       "      <td>AGCCT</td>\n",
       "      <td>-0.088236</td>\n",
       "    </tr>\n",
       "    <tr>\n",
       "      <th>142</th>\n",
       "      <td>AGATG</td>\n",
       "      <td>-0.091127</td>\n",
       "    </tr>\n",
       "    <tr>\n",
       "      <th>835</th>\n",
       "      <td>TCAAT</td>\n",
       "      <td>-0.107215</td>\n",
       "    </tr>\n",
       "    <tr>\n",
       "      <th>454</th>\n",
       "      <td>CTACG</td>\n",
       "      <td>-0.111589</td>\n",
       "    </tr>\n",
       "  </tbody>\n",
       "</table>\n",
       "<p>1024 rows × 2 columns</p>\n",
       "</div>"
      ],
      "text/plain": [
       "     letters       val\n",
       "1023   TTTTT  0.103578\n",
       "868    TCGCA  0.097135\n",
       "1      AAAAC  0.093368\n",
       "508    CTTTA  0.090284\n",
       "0      AAAAA  0.084976\n",
       "...      ...       ...\n",
       "270    CAATG -0.087416\n",
       "151    AGCCT -0.088236\n",
       "142    AGATG -0.091127\n",
       "835    TCAAT -0.107215\n",
       "454    CTACG -0.111589\n",
       "\n",
       "[1024 rows x 2 columns]"
      ]
     },
     "execution_count": 7,
     "metadata": {},
     "output_type": "execute_result"
    }
   ],
   "source": [
    "df,dict = flo.getWeights(5, model)\n",
    "df\n",
    "#print(dict)\n",
    "#print(data)"
   ]
  },
  {
   "cell_type": "code",
   "execution_count": 8,
   "metadata": {},
   "outputs": [
    {
     "name": "stdout",
     "output_type": "stream",
     "text": [
      "Profile is generated for Seq:tactagcaatacgcttgcgttcggtggttaagtatgtataatgcgcgggcttgtcgt\n"
     ]
    },
    {
     "name": "stderr",
     "output_type": "stream",
     "text": [
      "c:\\Users\\Semperro\\anaconda3\\anaconda\\lib\\site-packages\\seaborn\\_decorators.py:36: FutureWarning: Pass the following variables as keyword args: x, y. From version 0.12, the only valid positional argument will be `data`, and passing other arguments without an explicit keyword will result in an error or misinterpretation.\n",
      "  warnings.warn(\n"
     ]
    },
    {
     "data": {
      "image/png": "[encoded data removed]",
      "text/plain": [
       "<Figure size 1800x720 with 1 Axes>"
      ]
     },
     "metadata": {},
     "output_type": "display_data"
    }
   ],
   "source": [
    "flo.getPredProfile(0,5,data)"
   ]
  }
 ],
 "metadata": {
  "kernelspec": {
   "display_name": "Python 3.8.13 ('pyroKebabs')",
   "language": "python",
   "name": "python3"
  },
  "language_info": {
   "codemirror_mode": {
    "name": "ipython",
    "version": 3
   },
   "file_extension": ".py",
   "mimetype": "text/x-python",
   "name": "python",
   "nbconvert_exporter": "python",
   "pygments_lexer": "ipython3",
   "version": "3.8.13"
  },
  "orig_nbformat": 4,
  "vscode": {
   "interpreter": {
    "hash": "ba8da089405a027310d02ff3cb015109f84c1127d4518c6b6cfcab1c37332692"
   }
  }
 },
 "nbformat": 4,
 "nbformat_minor": 2
}
