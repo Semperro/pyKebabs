{
 "cells": [
  {
   "cell_type": "code",
   "execution_count": 1,
   "metadata": {},
   "outputs": [],
   "source": [
    "import pyrokebabs as pb\n",
    "import pandas as pd\n",
    "import numpy as np\n",
    "from Bio.Seq import Seq\n",
    "from sklearn.model_selection import train_test_split, cross_validate, GridSearchCV, LeaveOneOut, KFold\n",
    "#!pip install Bio strkernel\n",
    "from sklearn.svm import SVC\n",
    "import time\n",
    "from sklearn.model_selection import GroupKFold\n",
    "\n",
    "from strkernel.gappy_kernel import gappypair_kernel as gk\n",
    "from sklearn.svm import LinearSVC\n",
    "import random\n",
    "from sklearn.preprocessing import normalize"
   ]
  },
  {
   "cell_type": "code",
   "execution_count": 2,
   "metadata": {},
   "outputs": [],
   "source": [
    "def DNA(length):\n",
    "    return ''.join(random.choice('CGTA') for _ in range(length))\n",
    "\n",
    "amount = 150000\n",
    "seq = np.zeros(amount,dtype=object)\n",
    "tar = np.zeros(amount)\n",
    "\n",
    "for i in range(amount):\n",
    "    seq[i] = DNA(5)\n",
    "    if i & 2 == 0:\n",
    "        tar[i] = 1\n",
    "    else:\n",
    "        tar[i] = -1"
   ]
  },
  {
   "cell_type": "code",
   "execution_count": 2,
   "metadata": {},
   "outputs": [
    {
     "ename": "NameError",
     "evalue": "name 'seq' is not defined",
     "output_type": "error",
     "traceback": [
      "\u001b[1;31m---------------------------------------------------------------------------\u001b[0m",
      "\u001b[1;31mNameError\u001b[0m                                 Traceback (most recent call last)",
      "\u001b[1;32mc:\\Users\\Semperro\\pybabs\\pybabs\\pyroKebabs\\test\\testpackage_proto.ipynb Zelle 3\u001b[0m in \u001b[0;36m<cell line: 1>\u001b[1;34m()\u001b[0m\n\u001b[1;32m----> <a href='vscode-notebook-cell:/c%3A/Users/Semperro/pybabs/pybabs/pyroKebabs/test/testpackage_proto.ipynb#W2sZmlsZQ%3D%3D?line=0'>1</a>\u001b[0m data1 \u001b[39m=\u001b[39m [Seq(x) \u001b[39mfor\u001b[39;00m x \u001b[39min\u001b[39;00m seq]\n\u001b[0;32m      <a href='vscode-notebook-cell:/c%3A/Users/Semperro/pybabs/pybabs/pyroKebabs/test/testpackage_proto.ipynb#W2sZmlsZQ%3D%3D?line=1'>2</a>\u001b[0m promoter_data \u001b[39m=\u001b[39m {\u001b[39m'\u001b[39m\u001b[39mdata\u001b[39m\u001b[39m'\u001b[39m: data1,\n\u001b[0;32m      <a href='vscode-notebook-cell:/c%3A/Users/Semperro/pybabs/pybabs/pyroKebabs/test/testpackage_proto.ipynb#W2sZmlsZQ%3D%3D?line=2'>3</a>\u001b[0m              \u001b[39m'\u001b[39m\u001b[39mtarget\u001b[39m\u001b[39m'\u001b[39m: tar,\n\u001b[0;32m      <a href='vscode-notebook-cell:/c%3A/Users/Semperro/pybabs/pybabs/pyroKebabs/test/testpackage_proto.ipynb#W2sZmlsZQ%3D%3D?line=3'>4</a>\u001b[0m              \u001b[39m'\u001b[39m\u001b[39mfeature_names\u001b[39m\u001b[39m'\u001b[39m: [],\n\u001b[0;32m      <a href='vscode-notebook-cell:/c%3A/Users/Semperro/pybabs/pybabs/pyroKebabs/test/testpackage_proto.ipynb#W2sZmlsZQ%3D%3D?line=4'>5</a>\u001b[0m              \u001b[39m'\u001b[39m\u001b[39mtarget_names\u001b[39m\u001b[39m'\u001b[39m: [\u001b[39m'\u001b[39m\u001b[39mpos\u001b[39m\u001b[39m'\u001b[39m, \u001b[39m'\u001b[39m\u001b[39mneg\u001b[39m\u001b[39m'\u001b[39m]}\n",
      "\u001b[1;31mNameError\u001b[0m: name 'seq' is not defined"
     ]
    }
   ],
   "source": [
    "data1 = [Seq(x) for x in seq]\n",
    "promoter_data = {'data': data1,\n",
    "             'target': tar,\n",
    "             'feature_names': [],\n",
    "             'target_names': ['pos', 'neg']}\n",
    "\n",
    "\n",
    "\n",
    "#promoter_data_raw = pd.read_csv('testdata/promoters.csv', sep=',')\n",
    "#data1 = [Seq(x) for x in promoter_data_raw.iloc[:, -1]]\n",
    "#promoter_data = {'data': data1,\n",
    "            #'target': np.where(promoter_data_raw.iloc[:, 0] == '-', -1 ,1),\n",
    "            #'feature_names': promoter_data_raw.columns[2],\n",
    "            #'target_names': ['pos', 'neg']}\n",
    "\n",
    "#data must be presented in the form of bioSeq\n",
    "#data = [Seq(x) for x in promoter_data['data']]\n",
    "#target = promoter_data['target']\n",
    "#data = [Seq(x) for x in ['AATTGGCC', 'ACGTACGT', 'CCGGTTAA']]\n",
    "#data_grouped = np.array_split(data1,10)\n",
    "#X = data_grouped\n",
    "#y = np.array([1,1,1,1,1,-1,-1,-1,-1,-1])\n",
    "#groups = np.array([0,1,2,3,0,1,2,3,0,1])\n",
    "\n",
    "\n",
    "\n",
    "\n",
    "#promoter_data"
   ]
  },
  {
   "cell_type": "code",
   "execution_count": null,
   "metadata": {},
   "outputs": [],
   "source": []
  },
  {
   "cell_type": "code",
   "execution_count": 4,
   "metadata": {},
   "outputs": [
    {
     "name": "stdout",
     "output_type": "stream",
     "text": [
      "Time difference of  8.475001335144043 secs\n"
     ]
    }
   ],
   "source": [
    "elapsed_time = 0\n",
    "st = time.time()\n",
    "flo = pb.Pybabs(promoter_data,0)\n",
    "kernel = flo.createKernel(5,0,True)\n",
    "#norm_kernel = normalize(kernel, axis=1, norm='l1')\n",
    "#row_sums = kernel.sum(axis=1)\n",
    "#kernel2 = kernel/row_sums[:, np.newaxis]\n",
    "et = time.time()\n",
    "elapsed_time = et - st\n",
    "print(\"Time difference of \", elapsed_time , \"secs\")"
   ]
  },
  {
   "cell_type": "code",
   "execution_count": 5,
   "metadata": {},
   "outputs": [
    {
     "name": "stdout",
     "output_type": "stream",
     "text": [
      "Time difference of  367.26957416534424 secs\n"
     ]
    }
   ],
   "source": [
    "elapsed_time = 0\n",
    "st = time.time()\n",
    "clf = SVC(C=0.0125, kernel='linear')\n",
    "clf.fit(kernel, promoter_data['target'])\n",
    "et = time.time()\n",
    "elapsed_time = et - st\n",
    "print(\"Time difference of \", elapsed_time , \"secs\")"
   ]
  },
  {
   "cell_type": "code",
   "execution_count": 6,
   "metadata": {},
   "outputs": [
    {
     "ename": "SyntaxError",
     "evalue": "invalid syntax (4238345163.py, line 1)",
     "output_type": "error",
     "traceback": [
      "\u001b[1;36m  Input \u001b[1;32mIn [6]\u001b[1;36m\u001b[0m\n\u001b[1;33m    elapsed_time = ?\u001b[0m\n\u001b[1;37m                   ^\u001b[0m\n\u001b[1;31mSyntaxError\u001b[0m\u001b[1;31m:\u001b[0m invalid syntax\n"
     ]
    }
   ],
   "source": [
    "elapsed_time = ?\n",
    "st = time.time()\n",
    "cld = LinearSVC(C=0.0125)\n",
    "cld.fit(kernel, promoter_data['target'])\n",
    "et = time.time()\n",
    "elapsed_time = et - st\n",
    "print(\"Time difference of \", elapsed_time , \"secs\")"
   ]
  },
  {
   "cell_type": "code",
   "execution_count": null,
   "metadata": {},
   "outputs": [
    {
     "name": "stdout",
     "output_type": "stream",
     "text": [
      "256\n",
      "[-5.63497098e-02  4.40734199e-02  1.48223809e-02 -1.32647277e-02\n",
      " -4.71178457e-03 -5.59191886e-04 -1.47865142e-02  3.32916535e-02\n",
      "  8.72597517e-02  3.01026777e-02  2.00749749e-02 -3.90402667e-02\n",
      "  4.15584205e-02 -1.97873867e-02  1.89969758e-02  4.06428339e-02\n",
      " -1.02122886e-02 -4.81187815e-02 -2.65372753e-02  2.25124771e-02\n",
      " -7.68716897e-04 -1.73918151e-02  1.30022145e-02  6.03454002e-02\n",
      " -4.31589668e-02  1.97986298e-02 -1.70695141e-02 -1.80140026e-02\n",
      "  4.18278169e-02 -1.03813629e-02  1.12546858e-02  1.13007873e-02\n",
      " -8.79346631e-03  4.51822585e-02  1.06241939e-02 -5.73797443e-02\n",
      " -3.10344709e-02 -1.48130621e-02  3.44301084e-03 -2.52987017e-02\n",
      " -3.46860483e-02 -3.86246912e-02 -1.80627408e-02 -2.51831390e-02\n",
      "  9.15138073e-03  3.33486285e-02 -2.38840805e-02  5.29811551e-02\n",
      " -1.84261375e-02  4.88837360e-02 -1.71892707e-02 -2.78841087e-02\n",
      "  1.44454553e-02 -3.98415707e-02  1.06283006e-02  2.06373126e-03\n",
      "  4.35010618e-03  7.49333036e-04 -1.11950633e-02  3.97599336e-02\n",
      "  3.37481613e-02  6.86912111e-02  4.39260128e-02 -1.93107946e-02\n",
      " -8.62759760e-03 -1.03841302e-02 -2.55323896e-02 -9.02835505e-02\n",
      "  2.20673994e-02 -1.34907301e-02 -2.20183781e-02  1.45712556e-02\n",
      "  8.54774403e-03  3.86064056e-02  2.53968495e-02  4.09045700e-02\n",
      " -4.82253188e-02  1.46381187e-02 -1.06682024e-02  4.08058113e-02\n",
      "  5.03453598e-03 -3.60276961e-02 -3.23928349e-02 -2.41318105e-02\n",
      " -3.99034512e-03  3.81013083e-02 -1.06607041e-02 -1.24498849e-02\n",
      "  4.59530263e-03  2.61563012e-02  2.52576488e-02 -3.07793239e-02\n",
      " -3.67214613e-02  3.85505264e-02 -8.11444303e-03  1.54109901e-03\n",
      " -1.71820244e-02 -1.27855575e-03  5.91597717e-02  1.43543910e-02\n",
      "  1.58208136e-02  2.92537693e-02 -5.27125419e-02 -2.24080515e-02\n",
      "  3.51425006e-03  5.10729453e-03  2.08215813e-02 -3.03734681e-03\n",
      " -2.58735292e-02 -2.02261061e-02  2.24287476e-03 -2.19811986e-02\n",
      "  8.87522931e-03 -2.68677412e-02 -2.16927452e-02 -1.20413086e-02\n",
      " -1.73268038e-02  2.77579141e-02  2.58970676e-02 -1.47976253e-02\n",
      " -2.03170350e-02 -2.61379548e-02  4.18888024e-02  3.25088129e-02\n",
      "  2.18745225e-02 -3.11765146e-03  7.68191220e-03 -2.86580448e-02\n",
      " -1.99287378e-02 -8.27538896e-03  4.13914713e-03 -3.25325679e-02\n",
      " -3.66544984e-02 -3.38545861e-03 -1.16840203e-02  2.39743688e-03\n",
      " -1.85870597e-02 -3.07769692e-02 -9.78110966e-03 -1.38292257e-02\n",
      " -1.48282354e-02  6.64330356e-02  1.64354793e-02 -3.73076585e-02\n",
      "  4.25457682e-02 -2.72867891e-02 -4.81413002e-02  1.58680607e-02\n",
      "  2.90487259e-03  3.06141517e-02 -9.44446854e-03 -2.63278297e-02\n",
      "  8.34142477e-03 -8.70454452e-03 -4.04919572e-02  1.40285101e-03\n",
      "  4.25016369e-02  6.19494585e-02  3.71098821e-02  2.33918206e-02\n",
      " -1.15795236e-02  3.17167669e-02  5.39366062e-02 -4.70441248e-02\n",
      " -1.52343507e-03  3.61039362e-02  6.80835449e-03 -7.39144041e-03\n",
      " -5.38172348e-03 -5.29622882e-05 -1.16490966e-02 -4.54287141e-02\n",
      "  5.99598925e-02 -1.94774821e-03  5.57078745e-03 -7.36138451e-02\n",
      " -1.39663610e-02  2.22226364e-03  1.92340470e-02 -2.59889625e-02\n",
      " -9.46446432e-03 -2.26345164e-02 -4.44045383e-02  7.33815990e-02\n",
      "  1.75555518e-02 -1.62958801e-02 -3.48380247e-02 -2.24066399e-02\n",
      " -1.89647033e-02 -2.02102887e-03  1.76969888e-02 -1.01155231e-03\n",
      "  8.44145514e-03  1.51590151e-02 -2.27191331e-02 -3.49866584e-02\n",
      "  5.92140116e-02 -4.69464276e-02 -1.80323480e-02 -4.16696176e-02\n",
      " -3.69746304e-02  1.34732747e-02 -2.66772737e-03 -2.65641545e-02\n",
      " -1.80385528e-02 -1.38018329e-02  1.90427471e-02 -4.60981046e-02\n",
      "  5.94225288e-02  2.52980076e-02 -7.35617139e-03  1.00640308e-02\n",
      " -1.20160805e-03  1.66875346e-02  2.70661859e-02  3.75473723e-02\n",
      " -1.21042988e-02  5.11600325e-02 -6.58062732e-03 -3.26318118e-03\n",
      " -1.30454488e-02 -1.73022607e-02  3.04310501e-02  1.27517701e-03\n",
      "  1.80341138e-02 -1.25299862e-02 -3.98609059e-02  2.89621018e-03\n",
      "  7.95726309e-03 -3.95672355e-02  2.50861081e-04 -1.33426292e-02\n",
      " -6.31154540e-02  3.44584435e-02 -2.49338888e-02  2.17556719e-03\n",
      "  3.01162607e-02  2.18651824e-02  2.00786105e-02 -2.65650537e-02\n",
      " -9.51105475e-04  4.38819938e-02  5.85518514e-03 -2.28884853e-02\n",
      " -4.80020977e-03  3.11287766e-03 -4.18048740e-02  1.65207151e-02\n",
      " -3.69151774e-02  5.88347350e-02 -1.73597745e-02  3.50002283e-02\n",
      "  3.58297345e-03  4.55786603e-02  7.89062479e-02 -3.63200461e-02]\n"
     ]
    },
    {
     "ename": "ValueError",
     "evalue": "Length of values (256) does not match length of index (1024)",
     "output_type": "error",
     "traceback": [
      "\u001b[1;31m---------------------------------------------------------------------------\u001b[0m",
      "\u001b[1;31mValueError\u001b[0m                                Traceback (most recent call last)",
      "\u001b[1;32mc:\\Users\\Semperro\\pybabs\\pybabs\\pyroKebabs\\test\\testpackage_proto.ipynb Zelle 6\u001b[0m in \u001b[0;36m<cell line: 1>\u001b[1;34m()\u001b[0m\n\u001b[1;32m----> <a href='vscode-notebook-cell:/c%3A/Users/Semperro/pybabs/pybabs/pyroKebabs/test/testpackage_proto.ipynb#W5sZmlsZQ%3D%3D?line=0'>1</a>\u001b[0m df,\u001b[39mdict\u001b[39m \u001b[39m=\u001b[39m flo\u001b[39m.\u001b[39;49mgetWeights(cld)\n\u001b[0;32m      <a href='vscode-notebook-cell:/c%3A/Users/Semperro/pybabs/pybabs/pyroKebabs/test/testpackage_proto.ipynb#W5sZmlsZQ%3D%3D?line=1'>2</a>\u001b[0m \u001b[39m#df,dict = flo.getWeights(best_model)\u001b[39;00m\n\u001b[0;32m      <a href='vscode-notebook-cell:/c%3A/Users/Semperro/pybabs/pybabs/pyroKebabs/test/testpackage_proto.ipynb#W5sZmlsZQ%3D%3D?line=2'>3</a>\u001b[0m df\n",
      "File \u001b[1;32m~\\pybabs\\pybabs\\pyroKebabs\\src\\pyrokebabs\\pybabsclass.py:280\u001b[0m, in \u001b[0;36mPybabs.getWeights\u001b[1;34m(self, model)\u001b[0m\n\u001b[0;32m    278\u001b[0m \u001b[39mprint\u001b[39m(\u001b[39mlen\u001b[39m(model\u001b[39m.\u001b[39mcoef_[\u001b[39m0\u001b[39m]))\n\u001b[0;32m    279\u001b[0m \u001b[39mprint\u001b[39m(model\u001b[39m.\u001b[39mcoef_[\u001b[39m0\u001b[39m])\n\u001b[1;32m--> 280\u001b[0m df[\u001b[39m'\u001b[39m\u001b[39mval\u001b[39m\u001b[39m'\u001b[39m] \u001b[39m=\u001b[39m np\u001b[39m.\u001b[39marray(model\u001b[39m.\u001b[39mcoef_[\u001b[39m0\u001b[39m])\n\u001b[0;32m    281\u001b[0m df\u001b[39m.\u001b[39msort_values(by\u001b[39m=\u001b[39m\u001b[39m'\u001b[39m\u001b[39mval\u001b[39m\u001b[39m'\u001b[39m, ascending\u001b[39m=\u001b[39m\u001b[39mFalse\u001b[39;00m, inplace\u001b[39m=\u001b[39m\u001b[39mTrue\u001b[39;00m)   \n\u001b[0;32m    282\u001b[0m \u001b[39m#dict = df.set_index('letters').T.to_dict(orient='list')\u001b[39;00m\n",
      "File \u001b[1;32mc:\\Users\\Semperro\\anaconda3\\envs\\pyroKebabs\\lib\\site-packages\\pandas\\core\\frame.py:3655\u001b[0m, in \u001b[0;36mDataFrame.__setitem__\u001b[1;34m(self, key, value)\u001b[0m\n\u001b[0;32m   3652\u001b[0m     \u001b[39mself\u001b[39m\u001b[39m.\u001b[39m_setitem_array([key], value)\n\u001b[0;32m   3653\u001b[0m \u001b[39melse\u001b[39;00m:\n\u001b[0;32m   3654\u001b[0m     \u001b[39m# set column\u001b[39;00m\n\u001b[1;32m-> 3655\u001b[0m     \u001b[39mself\u001b[39;49m\u001b[39m.\u001b[39;49m_set_item(key, value)\n",
      "File \u001b[1;32mc:\\Users\\Semperro\\anaconda3\\envs\\pyroKebabs\\lib\\site-packages\\pandas\\core\\frame.py:3832\u001b[0m, in \u001b[0;36mDataFrame._set_item\u001b[1;34m(self, key, value)\u001b[0m\n\u001b[0;32m   3822\u001b[0m \u001b[39mdef\u001b[39;00m \u001b[39m_set_item\u001b[39m(\u001b[39mself\u001b[39m, key, value) \u001b[39m-\u001b[39m\u001b[39m>\u001b[39m \u001b[39mNone\u001b[39;00m:\n\u001b[0;32m   3823\u001b[0m     \u001b[39m\"\"\"\u001b[39;00m\n\u001b[0;32m   3824\u001b[0m \u001b[39m    Add series to DataFrame in specified column.\u001b[39;00m\n\u001b[0;32m   3825\u001b[0m \n\u001b[1;32m   (...)\u001b[0m\n\u001b[0;32m   3830\u001b[0m \u001b[39m    ensure homogeneity.\u001b[39;00m\n\u001b[0;32m   3831\u001b[0m \u001b[39m    \"\"\"\u001b[39;00m\n\u001b[1;32m-> 3832\u001b[0m     value \u001b[39m=\u001b[39m \u001b[39mself\u001b[39;49m\u001b[39m.\u001b[39;49m_sanitize_column(value)\n\u001b[0;32m   3834\u001b[0m     \u001b[39mif\u001b[39;00m (\n\u001b[0;32m   3835\u001b[0m         key \u001b[39min\u001b[39;00m \u001b[39mself\u001b[39m\u001b[39m.\u001b[39mcolumns\n\u001b[0;32m   3836\u001b[0m         \u001b[39mand\u001b[39;00m value\u001b[39m.\u001b[39mndim \u001b[39m==\u001b[39m \u001b[39m1\u001b[39m\n\u001b[0;32m   3837\u001b[0m         \u001b[39mand\u001b[39;00m \u001b[39mnot\u001b[39;00m is_extension_array_dtype(value)\n\u001b[0;32m   3838\u001b[0m     ):\n\u001b[0;32m   3839\u001b[0m         \u001b[39m# broadcast across multiple columns if necessary\u001b[39;00m\n\u001b[0;32m   3840\u001b[0m         \u001b[39mif\u001b[39;00m \u001b[39mnot\u001b[39;00m \u001b[39mself\u001b[39m\u001b[39m.\u001b[39mcolumns\u001b[39m.\u001b[39mis_unique \u001b[39mor\u001b[39;00m \u001b[39misinstance\u001b[39m(\u001b[39mself\u001b[39m\u001b[39m.\u001b[39mcolumns, MultiIndex):\n",
      "File \u001b[1;32mc:\\Users\\Semperro\\anaconda3\\envs\\pyroKebabs\\lib\\site-packages\\pandas\\core\\frame.py:4535\u001b[0m, in \u001b[0;36mDataFrame._sanitize_column\u001b[1;34m(self, value)\u001b[0m\n\u001b[0;32m   4532\u001b[0m     \u001b[39mreturn\u001b[39;00m _reindex_for_setitem(value, \u001b[39mself\u001b[39m\u001b[39m.\u001b[39mindex)\n\u001b[0;32m   4534\u001b[0m \u001b[39mif\u001b[39;00m is_list_like(value):\n\u001b[1;32m-> 4535\u001b[0m     com\u001b[39m.\u001b[39;49mrequire_length_match(value, \u001b[39mself\u001b[39;49m\u001b[39m.\u001b[39;49mindex)\n\u001b[0;32m   4536\u001b[0m \u001b[39mreturn\u001b[39;00m sanitize_array(value, \u001b[39mself\u001b[39m\u001b[39m.\u001b[39mindex, copy\u001b[39m=\u001b[39m\u001b[39mTrue\u001b[39;00m, allow_2d\u001b[39m=\u001b[39m\u001b[39mTrue\u001b[39;00m)\n",
      "File \u001b[1;32mc:\\Users\\Semperro\\anaconda3\\envs\\pyroKebabs\\lib\\site-packages\\pandas\\core\\common.py:557\u001b[0m, in \u001b[0;36mrequire_length_match\u001b[1;34m(data, index)\u001b[0m\n\u001b[0;32m    553\u001b[0m \u001b[39m\"\"\"\u001b[39;00m\n\u001b[0;32m    554\u001b[0m \u001b[39mCheck the length of data matches the length of the index.\u001b[39;00m\n\u001b[0;32m    555\u001b[0m \u001b[39m\"\"\"\u001b[39;00m\n\u001b[0;32m    556\u001b[0m \u001b[39mif\u001b[39;00m \u001b[39mlen\u001b[39m(data) \u001b[39m!=\u001b[39m \u001b[39mlen\u001b[39m(index):\n\u001b[1;32m--> 557\u001b[0m     \u001b[39mraise\u001b[39;00m \u001b[39mValueError\u001b[39;00m(\n\u001b[0;32m    558\u001b[0m         \u001b[39m\"\u001b[39m\u001b[39mLength of values \u001b[39m\u001b[39m\"\u001b[39m\n\u001b[0;32m    559\u001b[0m         \u001b[39mf\u001b[39m\u001b[39m\"\u001b[39m\u001b[39m(\u001b[39m\u001b[39m{\u001b[39;00m\u001b[39mlen\u001b[39m(data)\u001b[39m}\u001b[39;00m\u001b[39m) \u001b[39m\u001b[39m\"\u001b[39m\n\u001b[0;32m    560\u001b[0m         \u001b[39m\"\u001b[39m\u001b[39mdoes not match length of index \u001b[39m\u001b[39m\"\u001b[39m\n\u001b[0;32m    561\u001b[0m         \u001b[39mf\u001b[39m\u001b[39m\"\u001b[39m\u001b[39m(\u001b[39m\u001b[39m{\u001b[39;00m\u001b[39mlen\u001b[39m(index)\u001b[39m}\u001b[39;00m\u001b[39m)\u001b[39m\u001b[39m\"\u001b[39m\n\u001b[0;32m    562\u001b[0m     )\n",
      "\u001b[1;31mValueError\u001b[0m: Length of values (256) does not match length of index (1024)"
     ]
    }
   ],
   "source": [
    "df,dict = flo.getWeights(cld)\n",
    "#df,dict = flo.getWeights(best_model)\n",
    "df\n",
    "#print(dict)\n",
    "#print(data)"
   ]
  },
  {
   "cell_type": "code",
   "execution_count": null,
   "metadata": {},
   "outputs": [
    {
     "name": "stdout",
     "output_type": "stream",
     "text": [
      "Prediction profiles are generated with k = 5\n",
      "Profile is generated for Seq:TGCCG\n",
      "1024\n",
      "[-0.02578931 -0.06655146 -0.12109397 ... -0.0130939   0.07328991\n",
      " -0.02958415]\n",
      "[0.0012201086360408766, 0.0012201086360408766, 0.0012201086360408766, 0.0012201086360408766, 0.0]\n",
      "L/H -0.0 0.0012201086360408766\n"
     ]
    },
    {
     "data": {
      "image/png": "[encoded data removed]",
      "text/plain": [
       "<Figure size 2160x864 with 1 Axes>"
      ]
     },
     "metadata": {
      "needs_background": "light"
     },
     "output_type": "display_data"
    }
   ],
   "source": [
    "flo.getPredProfile(cld,0)"
   ]
  },
  {
   "cell_type": "code",
   "execution_count": null,
   "metadata": {},
   "outputs": [],
   "source": []
  },
  {
   "cell_type": "code",
   "execution_count": null,
   "metadata": {},
   "outputs": [
    {
     "data": {
      "text/html": [
       "<div>\n",
       "<style scoped>\n",
       "    .dataframe tbody tr th:only-of-type {\n",
       "        vertical-align: middle;\n",
       "    }\n",
       "\n",
       "    .dataframe tbody tr th {\n",
       "        vertical-align: top;\n",
       "    }\n",
       "\n",
       "    .dataframe thead th {\n",
       "        text-align: right;\n",
       "    }\n",
       "</style>\n",
       "<table border=\"1\" class=\"dataframe\">\n",
       "  <thead>\n",
       "    <tr style=\"text-align: right;\">\n",
       "      <th></th>\n",
       "      <th>Class</th>\n",
       "      <th>Type</th>\n",
       "      <th>Sequence</th>\n",
       "    </tr>\n",
       "  </thead>\n",
       "  <tbody>\n",
       "    <tr>\n",
       "      <th>0</th>\n",
       "      <td>+</td>\n",
       "      <td>AROH</td>\n",
       "      <td>gtactagagaactagtgcattagcttatttttttgttatcatgcta...</td>\n",
       "    </tr>\n",
       "    <tr>\n",
       "      <th>1</th>\n",
       "      <td>+</td>\n",
       "      <td>DEOP2</td>\n",
       "      <td>aattgtgatgtgtatcgaagtgtgttgcggagtagatgttagaata...</td>\n",
       "    </tr>\n",
       "    <tr>\n",
       "      <th>2</th>\n",
       "      <td>-</td>\n",
       "      <td>867</td>\n",
       "      <td>atatgaacgttgagactgccgctgagttatcagctgtgaacgacat...</td>\n",
       "    </tr>\n",
       "    <tr>\n",
       "      <th>3</th>\n",
       "      <td>-</td>\n",
       "      <td>1169</td>\n",
       "      <td>cgaacgagtcaatcagaccgctttgactctggtattactgtgaaca...</td>\n",
       "    </tr>\n",
       "  </tbody>\n",
       "</table>\n",
       "</div>"
      ],
      "text/plain": [
       "  Class   Type                                           Sequence\n",
       "0     +   AROH  gtactagagaactagtgcattagcttatttttttgttatcatgcta...\n",
       "1     +  DEOP2  aattgtgatgtgtatcgaagtgtgttgcggagtagatgttagaata...\n",
       "2     -    867  atatgaacgttgagactgccgctgagttatcagctgtgaacgacat...\n",
       "3     -   1169  cgaacgagtcaatcagaccgctttgactctggtattactgtgaaca..."
      ]
     },
     "execution_count": 20,
     "metadata": {},
     "output_type": "execute_result"
    }
   ],
   "source": [
    "seq_data_raw = pd.read_csv('testdata/promoters_copy.csv', sep=',')\n",
    "seq_data_raw"
   ]
  },
  {
   "cell_type": "code",
   "execution_count": null,
   "metadata": {},
   "outputs": [
    {
     "ename": "TypeError",
     "evalue": "can only concatenate str (not \"int\") to str",
     "output_type": "error",
     "traceback": [
      "\u001b[1;31m---------------------------------------------------------------------------\u001b[0m",
      "\u001b[1;31mTypeError\u001b[0m                                 Traceback (most recent call last)",
      "\u001b[1;32mc:\\Users\\Semperro\\pybabs\\pybabs\\pyroKebabs\\test\\testpackage_proto.ipynb Zelle 10\u001b[0m in \u001b[0;36m<cell line: 3>\u001b[1;34m()\u001b[0m\n\u001b[0;32m      <a href='vscode-notebook-cell:/c%3A/Users/Semperro/pybabs/pybabs/pyroKebabs/test/testpackage_proto.ipynb#X12sZmlsZQ%3D%3D?line=0'>1</a>\u001b[0m seq_input \u001b[39m=\u001b[39m [Seq(x) \u001b[39mfor\u001b[39;00m x \u001b[39min\u001b[39;00m seq_data_raw[\u001b[39m'\u001b[39m\u001b[39mSequence\u001b[39m\u001b[39m'\u001b[39m]]\n\u001b[0;32m      <a href='vscode-notebook-cell:/c%3A/Users/Semperro/pybabs/pybabs/pyroKebabs/test/testpackage_proto.ipynb#X12sZmlsZQ%3D%3D?line=1'>2</a>\u001b[0m seq_features \u001b[39m=\u001b[39m gk(seq_input, k\u001b[39m=\u001b[39m\u001b[39m5\u001b[39m, g\u001b[39m=\u001b[39m\u001b[39m0\u001b[39m, t\u001b[39m=\u001b[39m\u001b[39m0\u001b[39m, sparse\u001b[39m=\u001b[39m\u001b[39mTrue\u001b[39;00m)\n\u001b[0;32m      <a href='vscode-notebook-cell:/c%3A/Users/Semperro/pybabs/pybabs/pyroKebabs/test/testpackage_proto.ipynb#X12sZmlsZQ%3D%3D?line=2'>3</a>\u001b[0m seq_data \u001b[39m=\u001b[39m {\u001b[39m'\u001b[39m\u001b[39mdata\u001b[39m\u001b[39m'\u001b[39m: seq_features,\n\u001b[1;32m----> <a href='vscode-notebook-cell:/c%3A/Users/Semperro/pybabs/pybabs/pyroKebabs/test/testpackage_proto.ipynb#X12sZmlsZQ%3D%3D?line=3'>4</a>\u001b[0m             \u001b[39m'\u001b[39m\u001b[39mtarget\u001b[39m\u001b[39m'\u001b[39m: (np\u001b[39m.\u001b[39;49marray(seq_data_raw\u001b[39m.\u001b[39;49miloc[:, \u001b[39m-\u001b[39;49m\u001b[39m1\u001b[39;49m]) \u001b[39m+\u001b[39;49m \u001b[39m1\u001b[39;49m)\u001b[39m/\u001b[39m\u001b[39m2\u001b[39m,\n\u001b[0;32m      <a href='vscode-notebook-cell:/c%3A/Users/Semperro/pybabs/pybabs/pyroKebabs/test/testpackage_proto.ipynb#X12sZmlsZQ%3D%3D?line=4'>5</a>\u001b[0m             \u001b[39m'\u001b[39m\u001b[39mtarget_names\u001b[39m\u001b[39m'\u001b[39m: [\u001b[39m'\u001b[39m\u001b[39mnon-promoter\u001b[39m\u001b[39m'\u001b[39m,\u001b[39m'\u001b[39m\u001b[39mpromoter\u001b[39m\u001b[39m'\u001b[39m]}\n\u001b[0;32m      <a href='vscode-notebook-cell:/c%3A/Users/Semperro/pybabs/pybabs/pyroKebabs/test/testpackage_proto.ipynb#X12sZmlsZQ%3D%3D?line=5'>6</a>\u001b[0m seq_data\n",
      "\u001b[1;31mTypeError\u001b[0m: can only concatenate str (not \"int\") to str"
     ]
    }
   ],
   "source": [
    "seq_input = [Seq(x) for x in seq_data_raw['Sequence']]\n",
    "seq_features = gk(seq_input, k=5, g=0, t=0, sparse=True)\n",
    "seq_data = {'data': seq_features,\n",
    "            'target': (np.array(seq_data_raw.iloc[:, -1]) + 1)/2,\n",
    "            'target_names': ['non-promoter','promoter']}\n",
    "seq_data"
   ]
  },
  {
   "cell_type": "code",
   "execution_count": null,
   "metadata": {},
   "outputs": [],
   "source": [
    "seq_model = SVC(kernel='linear', C=0.03)\n",
    "cv_result = cross_validate(seq_model, seq_data['data'], seq_data['target'], cv=KFold(n_splits=10),n_jobs=-1, scoring=['accuracy'],)"
   ]
  },
  {
   "cell_type": "code",
   "execution_count": null,
   "metadata": {},
   "outputs": [],
   "source": [
    "pd.DataFrame(cv_result)"
   ]
  },
  {
   "cell_type": "code",
   "execution_count": null,
   "metadata": {},
   "outputs": [],
   "source": [
    "st = time.time()\n",
    "seq_features = gk(seq_input, k=5, g=0, t=0, sparse=False)\n",
    "seq_data = {'data': seq_features,\n",
    "            'target': (np.array(seq_data_raw.iloc[:, -1]) + 1)/2,\n",
    "            'target_names': ['non-promoter','promoter']}\n",
    "seq_data\n",
    "model1 = SVC(C=0.03, kernel='linear')\n",
    "cv_result = cross_validate(seq_model, seq_data['data'], seq_data['target'], cv=KFold(n_splits=10),n_jobs=-1, scoring=['accuracy'],)\n",
    "et = time.time()\n",
    "elapsed_time = et - st\n",
    "print(\"Time difference of \", elapsed_time , \"secs\")"
   ]
  },
  {
   "cell_type": "code",
   "execution_count": null,
   "metadata": {},
   "outputs": [],
   "source": [
    "df,dict = flo.getWeights(5, model)\n",
    "df\n",
    "#print(dict)\n",
    "#print(data)"
   ]
  },
  {
   "cell_type": "code",
   "execution_count": null,
   "metadata": {},
   "outputs": [],
   "source": [
    "flo.getPredProfile(105,5,data)"
   ]
  }
 ],
 "metadata": {
  "kernelspec": {
   "display_name": "Python 3.8.13 ('pyroKebabs')",
   "language": "python",
   "name": "python3"
  },
  "language_info": {
   "codemirror_mode": {
    "name": "ipython",
    "version": 3
   },
   "file_extension": ".py",
   "mimetype": "text/x-python",
   "name": "python",
   "nbconvert_exporter": "python",
   "pygments_lexer": "ipython3",
   "version": "3.8.13"
  },
  "orig_nbformat": 4,
  "vscode": {
   "interpreter": {
    "hash": "ba8da089405a027310d02ff3cb015109f84c1127d4518c6b6cfcab1c37332692"
   }
  }
 },
 "nbformat": 4,
 "nbformat_minor": 2
}
